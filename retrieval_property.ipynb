{
  "nbformat": 4,
  "nbformat_minor": 0,
  "metadata": {
    "colab": {
      "provenance": [],
      "authorship_tag": "ABX9TyOjM3w5JcwJuGxkdSvllHi/",
      "include_colab_link": true
    },
    "kernelspec": {
      "name": "python3",
      "display_name": "Python 3"
    },
    "language_info": {
      "name": "python"
    },
    "accelerator": "GPU"
  },
  "cells": [
    {
      "cell_type": "markdown",
      "metadata": {
        "id": "view-in-github",
        "colab_type": "text"
      },
      "source": [
        "<a href=\"https://colab.research.google.com/github/aniketsharma00411/episodic_memory/blob/main/retrieval_property.ipynb\" target=\"_parent\"><img src=\"https://colab.research.google.com/assets/colab-badge.svg\" alt=\"Open In Colab\"/></a>"
      ]
    },
    {
      "cell_type": "markdown",
      "source": [
        "# Initialization"
      ],
      "metadata": {
        "id": "42iuY-x97eN5"
      }
    },
    {
      "cell_type": "code",
      "execution_count": null,
      "metadata": {
        "id": "FAclgDXmBIcX"
      },
      "outputs": [],
      "source": [
        "import numpy as np\n",
        "\n",
        "from tensorflow.keras.models import Sequential\n",
        "from tensorflow.keras.layers import TimeDistributed\n",
        "from tensorflow.keras.layers import LSTM\n",
        "from tensorflow.keras.layers import Dense\n",
        "from tensorflow.keras.layers import Reshape\n",
        "\n",
        "from tensorflow.keras.callbacks import EarlyStopping\n",
        "\n",
        "from tensorflow.keras.datasets import cifar10\n",
        "from tensorflow.keras.datasets import mnist\n",
        "from tensorflow.keras.datasets import fashion_mnist\n",
        "\n",
        "import matplotlib.pyplot as plt"
      ]
    },
    {
      "cell_type": "markdown",
      "source": [
        "# MNIST"
      ],
      "metadata": {
        "id": "RLwWEUyl7b-D"
      }
    },
    {
      "cell_type": "code",
      "source": [
        "img_dim = 28"
      ],
      "metadata": {
        "id": "l6M_BtV657vS"
      },
      "execution_count": null,
      "outputs": []
    },
    {
      "cell_type": "code",
      "source": [
        "(train_images, train_labels), (test_images, test_labels) = mnist.load_data()\n",
        "\n",
        "orig_train_images = train_images.astype('float32')/255\n",
        "orig_test_images = test_images.astype('float32')/255"
      ],
      "metadata": {
        "colab": {
          "base_uri": "https://localhost:8080/"
        },
        "id": "YgcbsPdu52Y_",
        "outputId": "89b29219-04ff-472b-9c30-78376f5a180b"
      },
      "execution_count": null,
      "outputs": [
        {
          "output_type": "stream",
          "name": "stdout",
          "text": [
            "Downloading data from https://storage.googleapis.com/tensorflow/tf-keras-datasets/mnist.npz\n",
            "11493376/11490434 [==============================] - 0s 0us/step\n",
            "11501568/11490434 [==============================] - 0s 0us/step\n"
          ]
        }
      ]
    },
    {
      "cell_type": "code",
      "source": [
        "def get_predictions(imgs):\n",
        "    pred_train_images = []\n",
        "    for img in imgs:\n",
        "        new_img = list(img.copy())\n",
        "        new_img.pop(0)\n",
        "        new_img.append([0]*len(new_img[0]))\n",
        "        new_img = np.array(new_img)\n",
        "        pred_train_images.append(new_img)\n",
        "\n",
        "    return np.asarray(pred_train_images)"
      ],
      "metadata": {
        "id": "XJuHK6u37KBm"
      },
      "execution_count": null,
      "outputs": []
    },
    {
      "cell_type": "code",
      "source": [
        "pred_train_images = get_predictions(orig_train_images)\n",
        "pred_test_images = get_predictions(orig_test_images)"
      ],
      "metadata": {
        "id": "jAAClOijjCQm"
      },
      "execution_count": null,
      "outputs": []
    },
    {
      "cell_type": "code",
      "source": [
        "train_images = orig_train_images.reshape((60000, img_dim, 1, img_dim))\n",
        "test_images = orig_test_images.reshape((10000, img_dim, 1, img_dim))"
      ],
      "metadata": {
        "id": "RLZnBwxk7SNJ"
      },
      "execution_count": null,
      "outputs": []
    },
    {
      "cell_type": "code",
      "source": [
        "model1 = Sequential()\n",
        "model1.add(TimeDistributed(LSTM(256), input_shape=(img_dim, 1, img_dim)))\n",
        "model1.add(Dense(img_dim, activation='sigmoid'))\n",
        "model1.add(Reshape((img_dim, img_dim)))"
      ],
      "metadata": {
        "id": "QwCowm_IBUOT"
      },
      "execution_count": null,
      "outputs": []
    },
    {
      "cell_type": "code",
      "source": [
        "model1.compile(optimizer='adam', loss='mean_squared_error')"
      ],
      "metadata": {
        "id": "RLdO6rcMDeCn"
      },
      "execution_count": null,
      "outputs": []
    },
    {
      "cell_type": "code",
      "execution_count": null,
      "metadata": {
        "id": "4w83comYi96v"
      },
      "outputs": [],
      "source": [
        "early_stopping = EarlyStopping(\n",
        "    monitor='val_loss',\n",
        "    patience=2,\n",
        "    restore_best_weights=True\n",
        ")"
      ]
    },
    {
      "cell_type": "code",
      "source": [
        "model1.fit(\n",
        "    train_images,\n",
        "    pred_train_images,\n",
        "    epochs=10,\n",
        "    callbacks=[early_stopping],\n",
        "    validation_data=(test_images, pred_test_images)\n",
        "    )"
      ],
      "metadata": {
        "colab": {
          "base_uri": "https://localhost:8080/"
        },
        "outputId": "36c1d82a-3248-4295-b9d8-36307e5a03c6",
        "id": "zEaDIviQi96x"
      },
      "execution_count": null,
      "outputs": [
        {
          "output_type": "stream",
          "name": "stdout",
          "text": [
            "Epoch 1/10\n",
            "1875/1875 [==============================] - 26s 11ms/step - loss: 0.0381 - val_loss: 0.0279\n",
            "Epoch 2/10\n",
            "1875/1875 [==============================] - 12s 7ms/step - loss: 0.0278 - val_loss: 0.0274\n",
            "Epoch 3/10\n",
            "1875/1875 [==============================] - 13s 7ms/step - loss: 0.0275 - val_loss: 0.0270\n",
            "Epoch 4/10\n",
            "1875/1875 [==============================] - 13s 7ms/step - loss: 0.0271 - val_loss: 0.0266\n",
            "Epoch 5/10\n",
            "1875/1875 [==============================] - 13s 7ms/step - loss: 0.0267 - val_loss: 0.0263\n",
            "Epoch 6/10\n",
            "1875/1875 [==============================] - 12s 7ms/step - loss: 0.0264 - val_loss: 0.0260\n",
            "Epoch 7/10\n",
            "1875/1875 [==============================] - 12s 7ms/step - loss: 0.0261 - val_loss: 0.0258\n",
            "Epoch 8/10\n",
            "1875/1875 [==============================] - 12s 7ms/step - loss: 0.0259 - val_loss: 0.0256\n",
            "Epoch 9/10\n",
            "1875/1875 [==============================] - 13s 7ms/step - loss: 0.0258 - val_loss: 0.0255\n",
            "Epoch 10/10\n",
            "1875/1875 [==============================] - 12s 7ms/step - loss: 0.0256 - val_loss: 0.0254\n"
          ]
        },
        {
          "output_type": "execute_result",
          "data": {
            "text/plain": [
              "<keras.callbacks.History at 0x7f7176728d10>"
            ]
          },
          "metadata": {},
          "execution_count": 14
        }
      ]
    },
    {
      "cell_type": "code",
      "source": [
        "index=11329"
      ],
      "metadata": {
        "id": "kJmg8UNOgVZX"
      },
      "execution_count": null,
      "outputs": []
    },
    {
      "cell_type": "code",
      "source": [
        "figure, axis = plt.subplots(1, 2)\n",
        "\n",
        "axis[0].imshow(orig_train_images[index])\n",
        "axis[0].set_axis_off()\n",
        "\n",
        "axis[1].imshow(model1.predict(np.asarray([train_images[index]]))[0])\n",
        "axis[1].set_axis_off()\n",
        "\n",
        "plt.show()"
      ],
      "metadata": {
        "colab": {
          "base_uri": "https://localhost:8080/",
          "height": 183
        },
        "id": "9_SF3xHtcIYV",
        "outputId": "8e15908d-225d-4962-c0b4-254c628d83ce"
      },
      "execution_count": null,
      "outputs": [
        {
          "output_type": "display_data",
          "data": {
            "image/png": "[encoded data removed]",
            "text/plain": [
              "<Figure size 432x288 with 2 Axes>"
            ]
          },
          "metadata": {
            "needs_background": "light"
          }
        }
      ]
    },
    {
      "cell_type": "markdown",
      "source": [
        "# CIFAR-10"
      ],
      "metadata": {
        "id": "rdrs4plEhJBf"
      }
    },
    {
      "cell_type": "code",
      "source": [
        "img_dim = 32"
      ],
      "metadata": {
        "id": "xYzMpeGIhJBi"
      },
      "execution_count": null,
      "outputs": []
    },
    {
      "cell_type": "code",
      "source": [
        "(train_images, train_labels), (test_images, test_labels) = cifar10.load_data()\n",
        "\n",
        "orig_train_images = train_images.astype('float32')/255\n",
        "orig_test_images = test_images.astype('float32')/255"
      ],
      "metadata": {
        "colab": {
          "base_uri": "https://localhost:8080/"
        },
        "outputId": "41fb197a-4237-4138-d0dc-0883f4ea1ea9",
        "id": "iQLu1OLmhJBl"
      },
      "execution_count": null,
      "outputs": [
        {
          "output_type": "stream",
          "name": "stdout",
          "text": [
            "Downloading data from https://www.cs.toronto.edu/~kriz/cifar-10-python.tar.gz\n",
            "170500096/170498071 [==============================] - 2s 0us/step\n",
            "170508288/170498071 [==============================] - 2s 0us/step\n"
          ]
        }
      ]
    },
    {
      "cell_type": "code",
      "source": [
        "def get_predictions(imgs):\n",
        "    pred_train_images = []\n",
        "    for img in imgs:\n",
        "        new_img = list(img.copy())\n",
        "        new_img.pop(0)\n",
        "        new_img.append(np.zeros((32,3)))\n",
        "        new_img = np.array(new_img)\n",
        "        pred_train_images.append(new_img)\n",
        "\n",
        "    return np.asarray(pred_train_images)"
      ],
      "metadata": {
        "id": "ioSwf2owjeHd"
      },
      "execution_count": null,
      "outputs": []
    },
    {
      "cell_type": "code",
      "source": [
        "pred_train_images = get_predictions(orig_train_images)\n",
        "pred_test_images = get_predictions(orig_test_images)"
      ],
      "metadata": {
        "id": "XctvRqZHjeHe"
      },
      "execution_count": null,
      "outputs": []
    },
    {
      "cell_type": "code",
      "source": [
        "train_images = orig_train_images.reshape((50000, img_dim, 1, img_dim*3))\n",
        "test_images = orig_test_images.reshape((10000, img_dim, 1, img_dim*3))"
      ],
      "metadata": {
        "id": "i6OW5HyChJBp"
      },
      "execution_count": null,
      "outputs": []
    },
    {
      "cell_type": "code",
      "source": [
        "model2 = Sequential()\n",
        "model2.add(TimeDistributed(LSTM(256), input_shape=(img_dim, 1, img_dim*3)))\n",
        "model2.add(Dense(img_dim*3, activation='sigmoid'))\n",
        "model2.add(Reshape((img_dim, img_dim, 3)))"
      ],
      "metadata": {
        "id": "ZBw3S8NjhJBt"
      },
      "execution_count": null,
      "outputs": []
    },
    {
      "cell_type": "code",
      "source": [
        "model2.compile(optimizer='adam', loss='mean_squared_error')"
      ],
      "metadata": {
        "id": "CFy9lPXQh6wU"
      },
      "execution_count": null,
      "outputs": []
    },
    {
      "cell_type": "code",
      "execution_count": null,
      "metadata": {
        "id": "LM3ArtL-h6wV"
      },
      "outputs": [],
      "source": [
        "early_stopping = EarlyStopping(\n",
        "    monitor='val_loss',\n",
        "    patience=2,\n",
        "    restore_best_weights=True\n",
        ")"
      ]
    },
    {
      "cell_type": "code",
      "source": [
        "model2.fit(\n",
        "    train_images,\n",
        "    pred_train_images,\n",
        "    epochs=30,\n",
        "    callbacks=[early_stopping],\n",
        "    validation_data=(test_images, pred_test_images)\n",
        "    )"
      ],
      "metadata": {
        "colab": {
          "base_uri": "https://localhost:8080/"
        },
        "outputId": "30898167-0f03-4ec2-b193-93bc65dd8d63",
        "id": "MGMHttISh-4-"
      },
      "execution_count": null,
      "outputs": [
        {
          "output_type": "stream",
          "name": "stdout",
          "text": [
            "Epoch 1/30\n",
            "1563/1563 [==============================] - 16s 9ms/step - loss: 0.0206 - val_loss: 0.0180\n",
            "Epoch 2/30\n",
            "1563/1563 [==============================] - 13s 9ms/step - loss: 0.0179 - val_loss: 0.0177\n",
            "Epoch 3/30\n",
            "1563/1563 [==============================] - 16s 10ms/step - loss: 0.0177 - val_loss: 0.0176\n",
            "Epoch 4/30\n",
            "1563/1563 [==============================] - 13s 9ms/step - loss: 0.0176 - val_loss: 0.0175\n",
            "Epoch 5/30\n",
            "1563/1563 [==============================] - 14s 9ms/step - loss: 0.0175 - val_loss: 0.0175\n",
            "Epoch 6/30\n",
            "1563/1563 [==============================] - 14s 9ms/step - loss: 0.0175 - val_loss: 0.0175\n",
            "Epoch 7/30\n",
            "1563/1563 [==============================] - 14s 9ms/step - loss: 0.0175 - val_loss: 0.0174\n",
            "Epoch 8/30\n",
            "1563/1563 [==============================] - 14s 9ms/step - loss: 0.0174 - val_loss: 0.0174\n",
            "Epoch 9/30\n",
            "1563/1563 [==============================] - 13s 9ms/step - loss: 0.0174 - val_loss: 0.0174\n",
            "Epoch 10/30\n",
            "1563/1563 [==============================] - 14s 9ms/step - loss: 0.0174 - val_loss: 0.0174\n",
            "Epoch 11/30\n",
            "1563/1563 [==============================] - 14s 9ms/step - loss: 0.0174 - val_loss: 0.0174\n",
            "Epoch 12/30\n",
            "1563/1563 [==============================] - 14s 9ms/step - loss: 0.0174 - val_loss: 0.0174\n"
          ]
        },
        {
          "output_type": "execute_result",
          "data": {
            "text/plain": [
              "<keras.callbacks.History at 0x7f714d3388d0>"
            ]
          },
          "metadata": {},
          "execution_count": 29
        }
      ]
    },
    {
      "cell_type": "code",
      "source": [
        "index=1942"
      ],
      "metadata": {
        "id": "OaN3Qyh5hJBy"
      },
      "execution_count": null,
      "outputs": []
    },
    {
      "cell_type": "code",
      "source": [
        "figure, axis = plt.subplots(1, 2)\n",
        "\n",
        "axis[0].imshow(orig_train_images[index])\n",
        "axis[0].set_axis_off()\n",
        "\n",
        "axis[1].imshow(model2.predict(np.asarray([train_images[index]]))[0])\n",
        "axis[1].set_axis_off()\n",
        "\n",
        "plt.show()"
      ],
      "metadata": {
        "colab": {
          "base_uri": "https://localhost:8080/",
          "height": 183
        },
        "outputId": "30d8e6cd-0486-41b0-ccf4-ec963a3c89c6",
        "id": "5gFYmHiLhJB0"
      },
      "execution_count": null,
      "outputs": [
        {
          "output_type": "display_data",
          "data": {
            "image/png": "[encoded data removed]",
            "text/plain": [
              "<Figure size 432x288 with 2 Axes>"
            ]
          },
          "metadata": {
            "needs_background": "light"
          }
        }
      ]
    },
    {
      "cell_type": "markdown",
      "source": [
        "# Fashion MNIST"
      ],
      "metadata": {
        "id": "Pz1wX_Bvg5_O"
      }
    },
    {
      "cell_type": "code",
      "source": [
        "img_dim = 28"
      ],
      "metadata": {
        "id": "G1ljU5Tpg5_T"
      },
      "execution_count": null,
      "outputs": []
    },
    {
      "cell_type": "code",
      "source": [
        "(train_images, train_labels), (test_images, test_labels) = fashion_mnist.load_data()\n",
        "\n",
        "orig_train_images = train_images.astype('float32')/255\n",
        "orig_test_images = test_images.astype('float32')/255"
      ],
      "metadata": {
        "colab": {
          "base_uri": "https://localhost:8080/"
        },
        "outputId": "930c9fbd-b4b4-45e1-f43c-75f4dea50699",
        "id": "XNzXY_cWg5_X"
      },
      "execution_count": null,
      "outputs": [
        {
          "output_type": "stream",
          "name": "stdout",
          "text": [
            "Downloading data from https://storage.googleapis.com/tensorflow/tf-keras-datasets/train-labels-idx1-ubyte.gz\n",
            "32768/29515 [=================================] - 0s 0us/step\n",
            "40960/29515 [=========================================] - 0s 0us/step\n",
            "Downloading data from https://storage.googleapis.com/tensorflow/tf-keras-datasets/train-images-idx3-ubyte.gz\n",
            "26427392/26421880 [==============================] - 0s 0us/step\n",
            "26435584/26421880 [==============================] - 0s 0us/step\n",
            "Downloading data from https://storage.googleapis.com/tensorflow/tf-keras-datasets/t10k-labels-idx1-ubyte.gz\n",
            "16384/5148 [===============================================================================================] - 0s 0us/step\n",
            "Downloading data from https://storage.googleapis.com/tensorflow/tf-keras-datasets/t10k-images-idx3-ubyte.gz\n",
            "4423680/4422102 [==============================] - 0s 0us/step\n",
            "4431872/4422102 [==============================] - 0s 0us/step\n"
          ]
        }
      ]
    },
    {
      "cell_type": "code",
      "source": [
        "def get_predictions(imgs):\n",
        "    pred_train_images = []\n",
        "    for img in imgs:\n",
        "        new_img = list(img.copy())\n",
        "        new_img.pop(0)\n",
        "        new_img.append([0]*len(new_img[0]))\n",
        "        new_img = np.array(new_img)\n",
        "        pred_train_images.append(new_img)\n",
        "\n",
        "    return np.asarray(pred_train_images)"
      ],
      "metadata": {
        "id": "Iu7w26HRjuRa"
      },
      "execution_count": null,
      "outputs": []
    },
    {
      "cell_type": "code",
      "source": [
        "pred_train_images = get_predictions(orig_train_images)\n",
        "pred_test_images = get_predictions(orig_test_images)"
      ],
      "metadata": {
        "id": "c2xSZvQsjuRi"
      },
      "execution_count": null,
      "outputs": []
    },
    {
      "cell_type": "code",
      "source": [
        "train_images = orig_train_images.reshape((60000, img_dim, 1, img_dim))\n",
        "test_images = orig_test_images.reshape((10000, img_dim, 1, img_dim))"
      ],
      "metadata": {
        "id": "70RsdcUeg5_d"
      },
      "execution_count": null,
      "outputs": []
    },
    {
      "cell_type": "code",
      "source": [
        "model3 = Sequential()\n",
        "model3.add(TimeDistributed(LSTM(256), input_shape=(img_dim, 1, img_dim)))\n",
        "model3.add(Dense(img_dim, activation='sigmoid'))\n",
        "model3.add(Reshape((img_dim, img_dim)))"
      ],
      "metadata": {
        "id": "3lld7DwLg5_f"
      },
      "execution_count": null,
      "outputs": []
    },
    {
      "cell_type": "code",
      "source": [
        "model3.compile(optimizer='adam', loss='mean_squared_error')"
      ],
      "metadata": {
        "id": "mx5WNvURj1px"
      },
      "execution_count": null,
      "outputs": []
    },
    {
      "cell_type": "code",
      "execution_count": null,
      "metadata": {
        "id": "6B1doi29j1p3"
      },
      "outputs": [],
      "source": [
        "early_stopping = EarlyStopping(\n",
        "    monitor='val_loss',\n",
        "    patience=2,\n",
        "    restore_best_weights=True\n",
        ")"
      ]
    },
    {
      "cell_type": "code",
      "source": [
        "model3.fit(\n",
        "    train_images,\n",
        "    pred_train_images,\n",
        "    epochs=25,\n",
        "    callbacks=[early_stopping],\n",
        "    validation_data=(test_images, pred_test_images)\n",
        "    )"
      ],
      "metadata": {
        "colab": {
          "base_uri": "https://localhost:8080/"
        },
        "outputId": "36e720bb-4fb9-442d-aee2-f0673e9b42ae",
        "id": "g5EsWBAEj1p8"
      },
      "execution_count": null,
      "outputs": [
        {
          "output_type": "stream",
          "name": "stdout",
          "text": [
            "Epoch 1/25\n",
            "1875/1875 [==============================] - 16s 7ms/step - loss: 0.0314 - val_loss: 0.0228\n",
            "Epoch 2/25\n",
            "1875/1875 [==============================] - 13s 7ms/step - loss: 0.0221 - val_loss: 0.0216\n",
            "Epoch 3/25\n",
            "1875/1875 [==============================] - 12s 7ms/step - loss: 0.0213 - val_loss: 0.0210\n",
            "Epoch 4/25\n",
            "1875/1875 [==============================] - 13s 7ms/step - loss: 0.0208 - val_loss: 0.0206\n",
            "Epoch 5/25\n",
            "1875/1875 [==============================] - 12s 7ms/step - loss: 0.0205 - val_loss: 0.0204\n",
            "Epoch 6/25\n",
            "1875/1875 [==============================] - 12s 7ms/step - loss: 0.0203 - val_loss: 0.0202\n",
            "Epoch 7/25\n",
            "1875/1875 [==============================] - 13s 7ms/step - loss: 0.0201 - val_loss: 0.0200\n",
            "Epoch 8/25\n",
            "1875/1875 [==============================] - 12s 7ms/step - loss: 0.0199 - val_loss: 0.0200\n",
            "Epoch 9/25\n",
            "1875/1875 [==============================] - 12s 7ms/step - loss: 0.0198 - val_loss: 0.0197\n",
            "Epoch 10/25\n",
            "1875/1875 [==============================] - 12s 7ms/step - loss: 0.0197 - val_loss: 0.0197\n",
            "Epoch 11/25\n",
            "1875/1875 [==============================] - 12s 7ms/step - loss: 0.0196 - val_loss: 0.0196\n",
            "Epoch 12/25\n",
            "1875/1875 [==============================] - 12s 7ms/step - loss: 0.0195 - val_loss: 0.0194\n",
            "Epoch 13/25\n",
            "1875/1875 [==============================] - 12s 7ms/step - loss: 0.0194 - val_loss: 0.0196\n",
            "Epoch 14/25\n",
            "1875/1875 [==============================] - 13s 7ms/step - loss: 0.0193 - val_loss: 0.0193\n",
            "Epoch 15/25\n",
            "1875/1875 [==============================] - 13s 7ms/step - loss: 0.0193 - val_loss: 0.0192\n",
            "Epoch 16/25\n",
            "1875/1875 [==============================] - 12s 7ms/step - loss: 0.0192 - val_loss: 0.0192\n",
            "Epoch 17/25\n",
            "1875/1875 [==============================] - 12s 7ms/step - loss: 0.0192 - val_loss: 0.0191\n",
            "Epoch 18/25\n",
            "1875/1875 [==============================] - 12s 7ms/step - loss: 0.0191 - val_loss: 0.0191\n",
            "Epoch 19/25\n",
            "1875/1875 [==============================] - 12s 7ms/step - loss: 0.0190 - val_loss: 0.0190\n",
            "Epoch 20/25\n",
            "1875/1875 [==============================] - 12s 7ms/step - loss: 0.0190 - val_loss: 0.0190\n",
            "Epoch 21/25\n",
            "1875/1875 [==============================] - 12s 7ms/step - loss: 0.0190 - val_loss: 0.0189\n",
            "Epoch 22/25\n",
            "1875/1875 [==============================] - 12s 7ms/step - loss: 0.0189 - val_loss: 0.0189\n",
            "Epoch 23/25\n",
            "1875/1875 [==============================] - 12s 7ms/step - loss: 0.0189 - val_loss: 0.0189\n",
            "Epoch 24/25\n",
            "1875/1875 [==============================] - 12s 7ms/step - loss: 0.0188 - val_loss: 0.0189\n",
            "Epoch 25/25\n",
            "1875/1875 [==============================] - 12s 7ms/step - loss: 0.0188 - val_loss: 0.0188\n"
          ]
        },
        {
          "output_type": "execute_result",
          "data": {
            "text/plain": [
              "<keras.callbacks.History at 0x7f717651a610>"
            ]
          },
          "metadata": {},
          "execution_count": 45
        }
      ]
    },
    {
      "cell_type": "code",
      "source": [
        "index=33485"
      ],
      "metadata": {
        "id": "-eSaAaLwg5_k"
      },
      "execution_count": null,
      "outputs": []
    },
    {
      "cell_type": "code",
      "source": [
        "figure, axis = plt.subplots(1, 2)\n",
        "\n",
        "axis[0].imshow(orig_train_images[index])\n",
        "axis[0].set_axis_off()\n",
        "\n",
        "axis[1].imshow(model3.predict(np.asarray([train_images[index]]))[0])\n",
        "axis[1].set_axis_off()\n",
        "\n",
        "plt.show()"
      ],
      "metadata": {
        "colab": {
          "base_uri": "https://localhost:8080/",
          "height": 183
        },
        "outputId": "3355ccf7-5094-4690-fa3e-b9f6a8ac2bb9",
        "id": "QSmXgmlJg5_l"
      },
      "execution_count": null,
      "outputs": [
        {
          "output_type": "display_data",
          "data": {
            "image/png": "[encoded data removed]",
            "text/plain": [
              "<Figure size 432x288 with 2 Axes>"
            ]
          },
          "metadata": {
            "needs_background": "light"
          }
        }
      ]
    }
  ]
}